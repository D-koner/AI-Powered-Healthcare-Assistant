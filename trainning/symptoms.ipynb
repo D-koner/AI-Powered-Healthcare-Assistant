{
 "cells": [
  {
   "cell_type": "code",
   "execution_count": null,
   "metadata": {},
   "outputs": [],
   "source": [
    "import pandas as pd\n",
    "import numpy as np\n",
    "import matplotlib.pyplot as plt\n",
    "import seaborn as sns\n",
    "import pickle\n",
    "from sklearn.preprocessing import StandardScaler\n",
    "from sklearn.model_selection import train_test_split\n",
    "from sklearn.svm import SVC\n",
    "from sklearn.ensemble import RandomForestClassifier, GradientBoostingClassifier\n",
    "from sklearn.neighbors import KNeighborsClassifier\n",
    "from sklearn.naive_bayes import MultinomialNB\n",
    "from sklearn.metrics import accuracy_score, confusion_matrix\n",
    "import streamlit as st"
   ]
  },
  {
   "cell_type": "markdown",
   "metadata": {},
   "source": [
    "# Load CSV"
   ]
  },
  {
   "cell_type": "code",
   "execution_count": 2,
   "metadata": {},
   "outputs": [],
   "source": [
    "dataset = pd.read_csv('C:/Users/dipay/OneDrive/Desktop/AI_Healthcare_Chatbot/dataset/Training.csv')"
   ]
  },
  {
   "cell_type": "code",
   "execution_count": 3,
   "metadata": {},
   "outputs": [
    {
     "name": "stdout",
     "output_type": "stream",
     "text": [
      "<class 'pandas.core.frame.DataFrame'>\n",
      "RangeIndex: 4920 entries, 0 to 4919\n",
      "Columns: 133 entries, itching to prognosis\n",
      "dtypes: int64(132), object(1)\n",
      "memory usage: 5.0+ MB\n"
     ]
    }
   ],
   "source": [
    "dataset.info()"
   ]
  },
  {
   "cell_type": "code",
   "execution_count": 4,
   "metadata": {},
   "outputs": [
    {
     "data": {
      "text/plain": [
       "(4920, 133)"
      ]
     },
     "execution_count": 4,
     "metadata": {},
     "output_type": "execute_result"
    }
   ],
   "source": [
    "dataset.shape"
   ]
  },
  {
   "cell_type": "code",
   "execution_count": 5,
   "metadata": {},
   "outputs": [
    {
     "data": {
      "text/plain": [
       "itching                 0\n",
       "skin_rash               0\n",
       "nodal_skin_eruptions    0\n",
       "continuous_sneezing     0\n",
       "shivering               0\n",
       "                       ..\n",
       "inflammatory_nails      0\n",
       "blister                 0\n",
       "red_sore_around_nose    0\n",
       "yellow_crust_ooze       0\n",
       "prognosis               0\n",
       "Length: 133, dtype: int64"
      ]
     },
     "execution_count": 5,
     "metadata": {},
     "output_type": "execute_result"
    }
   ],
   "source": [
    "dataset.isna().sum()"
   ]
  },
  {
   "cell_type": "code",
   "execution_count": 6,
   "metadata": {},
   "outputs": [
    {
     "data": {
      "text/plain": [
       "<bound method DataFrame.duplicated of       itching  skin_rash  nodal_skin_eruptions  continuous_sneezing  \\\n",
       "0           1          1                     1                    0   \n",
       "1           0          1                     1                    0   \n",
       "2           1          0                     1                    0   \n",
       "3           1          1                     0                    0   \n",
       "4           1          1                     1                    0   \n",
       "...       ...        ...                   ...                  ...   \n",
       "4915        0          0                     0                    0   \n",
       "4916        0          1                     0                    0   \n",
       "4917        0          0                     0                    0   \n",
       "4918        0          1                     0                    0   \n",
       "4919        0          1                     0                    0   \n",
       "\n",
       "      shivering  chills  joint_pain  stomach_pain  acidity  ulcers_on_tongue  \\\n",
       "0             0       0           0             0        0                 0   \n",
       "1             0       0           0             0        0                 0   \n",
       "2             0       0           0             0        0                 0   \n",
       "3             0       0           0             0        0                 0   \n",
       "4             0       0           0             0        0                 0   \n",
       "...         ...     ...         ...           ...      ...               ...   \n",
       "4915          0       0           0             0        0                 0   \n",
       "4916          0       0           0             0        0                 0   \n",
       "4917          0       0           0             0        0                 0   \n",
       "4918          0       0           1             0        0                 0   \n",
       "4919          0       0           0             0        0                 0   \n",
       "\n",
       "      ...  blackheads  scurring  skin_peeling  silver_like_dusting  \\\n",
       "0     ...           0         0             0                    0   \n",
       "1     ...           0         0             0                    0   \n",
       "2     ...           0         0             0                    0   \n",
       "3     ...           0         0             0                    0   \n",
       "4     ...           0         0             0                    0   \n",
       "...   ...         ...       ...           ...                  ...   \n",
       "4915  ...           0         0             0                    0   \n",
       "4916  ...           1         1             0                    0   \n",
       "4917  ...           0         0             0                    0   \n",
       "4918  ...           0         0             1                    1   \n",
       "4919  ...           0         0             0                    0   \n",
       "\n",
       "      small_dents_in_nails  inflammatory_nails  blister  red_sore_around_nose  \\\n",
       "0                        0                   0        0                     0   \n",
       "1                        0                   0        0                     0   \n",
       "2                        0                   0        0                     0   \n",
       "3                        0                   0        0                     0   \n",
       "4                        0                   0        0                     0   \n",
       "...                    ...                 ...      ...                   ...   \n",
       "4915                     0                   0        0                     0   \n",
       "4916                     0                   0        0                     0   \n",
       "4917                     0                   0        0                     0   \n",
       "4918                     1                   1        0                     0   \n",
       "4919                     0                   0        1                     1   \n",
       "\n",
       "      yellow_crust_ooze                                prognosis  \n",
       "0                     0                         Fungal infection  \n",
       "1                     0                         Fungal infection  \n",
       "2                     0                         Fungal infection  \n",
       "3                     0                         Fungal infection  \n",
       "4                     0                         Fungal infection  \n",
       "...                 ...                                      ...  \n",
       "4915                  0  (vertigo) Paroymsal  Positional Vertigo  \n",
       "4916                  0                                     Acne  \n",
       "4917                  0                  Urinary tract infection  \n",
       "4918                  0                                Psoriasis  \n",
       "4919                  1                                 Impetigo  \n",
       "\n",
       "[4920 rows x 133 columns]>"
      ]
     },
     "execution_count": 6,
     "metadata": {},
     "output_type": "execute_result"
    }
   ],
   "source": [
    "dataset.duplicated"
   ]
  },
  {
   "cell_type": "code",
   "execution_count": 7,
   "metadata": {},
   "outputs": [],
   "source": [
    "dataset = dataset.drop_duplicates()"
   ]
  },
  {
   "cell_type": "code",
   "execution_count": 8,
   "metadata": {},
   "outputs": [
    {
     "data": {
      "application/vnd.microsoft.datawrangler.viewer.v0+json": {
       "columns": [
        {
         "name": "index",
         "rawType": "int64",
         "type": "integer"
        },
        {
         "name": "itching",
         "rawType": "int64",
         "type": "integer"
        },
        {
         "name": "skin_rash",
         "rawType": "int64",
         "type": "integer"
        },
        {
         "name": "nodal_skin_eruptions",
         "rawType": "int64",
         "type": "integer"
        },
        {
         "name": "continuous_sneezing",
         "rawType": "int64",
         "type": "integer"
        },
        {
         "name": "shivering",
         "rawType": "int64",
         "type": "integer"
        },
        {
         "name": "chills",
         "rawType": "int64",
         "type": "integer"
        },
        {
         "name": "joint_pain",
         "rawType": "int64",
         "type": "integer"
        },
        {
         "name": "stomach_pain",
         "rawType": "int64",
         "type": "integer"
        },
        {
         "name": "acidity",
         "rawType": "int64",
         "type": "integer"
        },
        {
         "name": "ulcers_on_tongue",
         "rawType": "int64",
         "type": "integer"
        },
        {
         "name": "muscle_wasting",
         "rawType": "int64",
         "type": "integer"
        },
        {
         "name": "vomiting",
         "rawType": "int64",
         "type": "integer"
        },
        {
         "name": "burning_micturition",
         "rawType": "int64",
         "type": "integer"
        },
        {
         "name": "spotting_ urination",
         "rawType": "int64",
         "type": "integer"
        },
        {
         "name": "fatigue",
         "rawType": "int64",
         "type": "integer"
        },
        {
         "name": "weight_gain",
         "rawType": "int64",
         "type": "integer"
        },
        {
         "name": "anxiety",
         "rawType": "int64",
         "type": "integer"
        },
        {
         "name": "cold_hands_and_feets",
         "rawType": "int64",
         "type": "integer"
        },
        {
         "name": "mood_swings",
         "rawType": "int64",
         "type": "integer"
        },
        {
         "name": "weight_loss",
         "rawType": "int64",
         "type": "integer"
        },
        {
         "name": "restlessness",
         "rawType": "int64",
         "type": "integer"
        },
        {
         "name": "lethargy",
         "rawType": "int64",
         "type": "integer"
        },
        {
         "name": "patches_in_throat",
         "rawType": "int64",
         "type": "integer"
        },
        {
         "name": "irregular_sugar_level",
         "rawType": "int64",
         "type": "integer"
        },
        {
         "name": "cough",
         "rawType": "int64",
         "type": "integer"
        },
        {
         "name": "high_fever",
         "rawType": "int64",
         "type": "integer"
        },
        {
         "name": "sunken_eyes",
         "rawType": "int64",
         "type": "integer"
        },
        {
         "name": "breathlessness",
         "rawType": "int64",
         "type": "integer"
        },
        {
         "name": "sweating",
         "rawType": "int64",
         "type": "integer"
        },
        {
         "name": "dehydration",
         "rawType": "int64",
         "type": "integer"
        },
        {
         "name": "indigestion",
         "rawType": "int64",
         "type": "integer"
        },
        {
         "name": "headache",
         "rawType": "int64",
         "type": "integer"
        },
        {
         "name": "yellowish_skin",
         "rawType": "int64",
         "type": "integer"
        },
        {
         "name": "dark_urine",
         "rawType": "int64",
         "type": "integer"
        },
        {
         "name": "nausea",
         "rawType": "int64",
         "type": "integer"
        },
        {
         "name": "loss_of_appetite",
         "rawType": "int64",
         "type": "integer"
        },
        {
         "name": "pain_behind_the_eyes",
         "rawType": "int64",
         "type": "integer"
        },
        {
         "name": "back_pain",
         "rawType": "int64",
         "type": "integer"
        },
        {
         "name": "constipation",
         "rawType": "int64",
         "type": "integer"
        },
        {
         "name": "abdominal_pain",
         "rawType": "int64",
         "type": "integer"
        },
        {
         "name": "diarrhoea",
         "rawType": "int64",
         "type": "integer"
        },
        {
         "name": "mild_fever",
         "rawType": "int64",
         "type": "integer"
        },
        {
         "name": "yellow_urine",
         "rawType": "int64",
         "type": "integer"
        },
        {
         "name": "yellowing_of_eyes",
         "rawType": "int64",
         "type": "integer"
        },
        {
         "name": "acute_liver_failure",
         "rawType": "int64",
         "type": "integer"
        },
        {
         "name": "fluid_overload",
         "rawType": "int64",
         "type": "integer"
        },
        {
         "name": "swelling_of_stomach",
         "rawType": "int64",
         "type": "integer"
        },
        {
         "name": "swelled_lymph_nodes",
         "rawType": "int64",
         "type": "integer"
        },
        {
         "name": "malaise",
         "rawType": "int64",
         "type": "integer"
        },
        {
         "name": "blurred_and_distorted_vision",
         "rawType": "int64",
         "type": "integer"
        },
        {
         "name": "phlegm",
         "rawType": "int64",
         "type": "integer"
        },
        {
         "name": "throat_irritation",
         "rawType": "int64",
         "type": "integer"
        },
        {
         "name": "redness_of_eyes",
         "rawType": "int64",
         "type": "integer"
        },
        {
         "name": "sinus_pressure",
         "rawType": "int64",
         "type": "integer"
        },
        {
         "name": "runny_nose",
         "rawType": "int64",
         "type": "integer"
        },
        {
         "name": "congestion",
         "rawType": "int64",
         "type": "integer"
        },
        {
         "name": "chest_pain",
         "rawType": "int64",
         "type": "integer"
        },
        {
         "name": "weakness_in_limbs",
         "rawType": "int64",
         "type": "integer"
        },
        {
         "name": "fast_heart_rate",
         "rawType": "int64",
         "type": "integer"
        },
        {
         "name": "pain_during_bowel_movements",
         "rawType": "int64",
         "type": "integer"
        },
        {
         "name": "pain_in_anal_region",
         "rawType": "int64",
         "type": "integer"
        },
        {
         "name": "bloody_stool",
         "rawType": "int64",
         "type": "integer"
        },
        {
         "name": "irritation_in_anus",
         "rawType": "int64",
         "type": "integer"
        },
        {
         "name": "neck_pain",
         "rawType": "int64",
         "type": "integer"
        },
        {
         "name": "dizziness",
         "rawType": "int64",
         "type": "integer"
        },
        {
         "name": "cramps",
         "rawType": "int64",
         "type": "integer"
        },
        {
         "name": "bruising",
         "rawType": "int64",
         "type": "integer"
        },
        {
         "name": "obesity",
         "rawType": "int64",
         "type": "integer"
        },
        {
         "name": "swollen_legs",
         "rawType": "int64",
         "type": "integer"
        },
        {
         "name": "swollen_blood_vessels",
         "rawType": "int64",
         "type": "integer"
        },
        {
         "name": "puffy_face_and_eyes",
         "rawType": "int64",
         "type": "integer"
        },
        {
         "name": "enlarged_thyroid",
         "rawType": "int64",
         "type": "integer"
        },
        {
         "name": "brittle_nails",
         "rawType": "int64",
         "type": "integer"
        },
        {
         "name": "swollen_extremeties",
         "rawType": "int64",
         "type": "integer"
        },
        {
         "name": "excessive_hunger",
         "rawType": "int64",
         "type": "integer"
        },
        {
         "name": "extra_marital_contacts",
         "rawType": "int64",
         "type": "integer"
        },
        {
         "name": "drying_and_tingling_lips",
         "rawType": "int64",
         "type": "integer"
        },
        {
         "name": "slurred_speech",
         "rawType": "int64",
         "type": "integer"
        },
        {
         "name": "knee_pain",
         "rawType": "int64",
         "type": "integer"
        },
        {
         "name": "hip_joint_pain",
         "rawType": "int64",
         "type": "integer"
        },
        {
         "name": "muscle_weakness",
         "rawType": "int64",
         "type": "integer"
        },
        {
         "name": "stiff_neck",
         "rawType": "int64",
         "type": "integer"
        },
        {
         "name": "swelling_joints",
         "rawType": "int64",
         "type": "integer"
        },
        {
         "name": "movement_stiffness",
         "rawType": "int64",
         "type": "integer"
        },
        {
         "name": "spinning_movements",
         "rawType": "int64",
         "type": "integer"
        },
        {
         "name": "loss_of_balance",
         "rawType": "int64",
         "type": "integer"
        },
        {
         "name": "unsteadiness",
         "rawType": "int64",
         "type": "integer"
        },
        {
         "name": "weakness_of_one_body_side",
         "rawType": "int64",
         "type": "integer"
        },
        {
         "name": "loss_of_smell",
         "rawType": "int64",
         "type": "integer"
        },
        {
         "name": "bladder_discomfort",
         "rawType": "int64",
         "type": "integer"
        },
        {
         "name": "foul_smell_of urine",
         "rawType": "int64",
         "type": "integer"
        },
        {
         "name": "continuous_feel_of_urine",
         "rawType": "int64",
         "type": "integer"
        },
        {
         "name": "passage_of_gases",
         "rawType": "int64",
         "type": "integer"
        },
        {
         "name": "internal_itching",
         "rawType": "int64",
         "type": "integer"
        },
        {
         "name": "toxic_look_(typhos)",
         "rawType": "int64",
         "type": "integer"
        },
        {
         "name": "depression",
         "rawType": "int64",
         "type": "integer"
        },
        {
         "name": "irritability",
         "rawType": "int64",
         "type": "integer"
        },
        {
         "name": "muscle_pain",
         "rawType": "int64",
         "type": "integer"
        },
        {
         "name": "altered_sensorium",
         "rawType": "int64",
         "type": "integer"
        },
        {
         "name": "red_spots_over_body",
         "rawType": "int64",
         "type": "integer"
        },
        {
         "name": "belly_pain",
         "rawType": "int64",
         "type": "integer"
        },
        {
         "name": "abnormal_menstruation",
         "rawType": "int64",
         "type": "integer"
        },
        {
         "name": "dischromic _patches",
         "rawType": "int64",
         "type": "integer"
        },
        {
         "name": "watering_from_eyes",
         "rawType": "int64",
         "type": "integer"
        },
        {
         "name": "increased_appetite",
         "rawType": "int64",
         "type": "integer"
        },
        {
         "name": "polyuria",
         "rawType": "int64",
         "type": "integer"
        },
        {
         "name": "family_history",
         "rawType": "int64",
         "type": "integer"
        },
        {
         "name": "mucoid_sputum",
         "rawType": "int64",
         "type": "integer"
        },
        {
         "name": "rusty_sputum",
         "rawType": "int64",
         "type": "integer"
        },
        {
         "name": "lack_of_concentration",
         "rawType": "int64",
         "type": "integer"
        },
        {
         "name": "visual_disturbances",
         "rawType": "int64",
         "type": "integer"
        },
        {
         "name": "receiving_blood_transfusion",
         "rawType": "int64",
         "type": "integer"
        },
        {
         "name": "receiving_unsterile_injections",
         "rawType": "int64",
         "type": "integer"
        },
        {
         "name": "coma",
         "rawType": "int64",
         "type": "integer"
        },
        {
         "name": "stomach_bleeding",
         "rawType": "int64",
         "type": "integer"
        },
        {
         "name": "distention_of_abdomen",
         "rawType": "int64",
         "type": "integer"
        },
        {
         "name": "history_of_alcohol_consumption",
         "rawType": "int64",
         "type": "integer"
        },
        {
         "name": "fluid_overload.1",
         "rawType": "int64",
         "type": "integer"
        },
        {
         "name": "blood_in_sputum",
         "rawType": "int64",
         "type": "integer"
        },
        {
         "name": "prominent_veins_on_calf",
         "rawType": "int64",
         "type": "integer"
        },
        {
         "name": "palpitations",
         "rawType": "int64",
         "type": "integer"
        },
        {
         "name": "painful_walking",
         "rawType": "int64",
         "type": "integer"
        },
        {
         "name": "pus_filled_pimples",
         "rawType": "int64",
         "type": "integer"
        },
        {
         "name": "blackheads",
         "rawType": "int64",
         "type": "integer"
        },
        {
         "name": "scurring",
         "rawType": "int64",
         "type": "integer"
        },
        {
         "name": "skin_peeling",
         "rawType": "int64",
         "type": "integer"
        },
        {
         "name": "silver_like_dusting",
         "rawType": "int64",
         "type": "integer"
        },
        {
         "name": "small_dents_in_nails",
         "rawType": "int64",
         "type": "integer"
        },
        {
         "name": "inflammatory_nails",
         "rawType": "int64",
         "type": "integer"
        },
        {
         "name": "blister",
         "rawType": "int64",
         "type": "integer"
        },
        {
         "name": "red_sore_around_nose",
         "rawType": "int64",
         "type": "integer"
        },
        {
         "name": "yellow_crust_ooze",
         "rawType": "int64",
         "type": "integer"
        },
        {
         "name": "prognosis",
         "rawType": "object",
         "type": "string"
        }
       ],
       "conversionMethod": "pd.DataFrame",
       "ref": "ec0f688b-a9c1-4084-bdcd-a6f8d47e7f84",
       "rows": [
        [
         "0",
         "1",
         "1",
         "1",
         "0",
         "0",
         "0",
         "0",
         "0",
         "0",
         "0",
         "0",
         "0",
         "0",
         "0",
         "0",
         "0",
         "0",
         "0",
         "0",
         "0",
         "0",
         "0",
         "0",
         "0",
         "0",
         "0",
         "0",
         "0",
         "0",
         "0",
         "0",
         "0",
         "0",
         "0",
         "0",
         "0",
         "0",
         "0",
         "0",
         "0",
         "0",
         "0",
         "0",
         "0",
         "0",
         "0",
         "0",
         "0",
         "0",
         "0",
         "0",
         "0",
         "0",
         "0",
         "0",
         "0",
         "0",
         "0",
         "0",
         "0",
         "0",
         "0",
         "0",
         "0",
         "0",
         "0",
         "0",
         "0",
         "0",
         "0",
         "0",
         "0",
         "0",
         "0",
         "0",
         "0",
         "0",
         "0",
         "0",
         "0",
         "0",
         "0",
         "0",
         "0",
         "0",
         "0",
         "0",
         "0",
         "0",
         "0",
         "0",
         "0",
         "0",
         "0",
         "0",
         "0",
         "0",
         "0",
         "0",
         "0",
         "0",
         "0",
         "1",
         "0",
         "0",
         "0",
         "0",
         "0",
         "0",
         "0",
         "0",
         "0",
         "0",
         "0",
         "0",
         "0",
         "0",
         "0",
         "0",
         "0",
         "0",
         "0",
         "0",
         "0",
         "0",
         "0",
         "0",
         "0",
         "0",
         "0",
         "0",
         "0",
         "Fungal infection"
        ],
        [
         "1",
         "0",
         "1",
         "1",
         "0",
         "0",
         "0",
         "0",
         "0",
         "0",
         "0",
         "0",
         "0",
         "0",
         "0",
         "0",
         "0",
         "0",
         "0",
         "0",
         "0",
         "0",
         "0",
         "0",
         "0",
         "0",
         "0",
         "0",
         "0",
         "0",
         "0",
         "0",
         "0",
         "0",
         "0",
         "0",
         "0",
         "0",
         "0",
         "0",
         "0",
         "0",
         "0",
         "0",
         "0",
         "0",
         "0",
         "0",
         "0",
         "0",
         "0",
         "0",
         "0",
         "0",
         "0",
         "0",
         "0",
         "0",
         "0",
         "0",
         "0",
         "0",
         "0",
         "0",
         "0",
         "0",
         "0",
         "0",
         "0",
         "0",
         "0",
         "0",
         "0",
         "0",
         "0",
         "0",
         "0",
         "0",
         "0",
         "0",
         "0",
         "0",
         "0",
         "0",
         "0",
         "0",
         "0",
         "0",
         "0",
         "0",
         "0",
         "0",
         "0",
         "0",
         "0",
         "0",
         "0",
         "0",
         "0",
         "0",
         "0",
         "0",
         "0",
         "1",
         "0",
         "0",
         "0",
         "0",
         "0",
         "0",
         "0",
         "0",
         "0",
         "0",
         "0",
         "0",
         "0",
         "0",
         "0",
         "0",
         "0",
         "0",
         "0",
         "0",
         "0",
         "0",
         "0",
         "0",
         "0",
         "0",
         "0",
         "0",
         "0",
         "Fungal infection"
        ],
        [
         "2",
         "1",
         "0",
         "1",
         "0",
         "0",
         "0",
         "0",
         "0",
         "0",
         "0",
         "0",
         "0",
         "0",
         "0",
         "0",
         "0",
         "0",
         "0",
         "0",
         "0",
         "0",
         "0",
         "0",
         "0",
         "0",
         "0",
         "0",
         "0",
         "0",
         "0",
         "0",
         "0",
         "0",
         "0",
         "0",
         "0",
         "0",
         "0",
         "0",
         "0",
         "0",
         "0",
         "0",
         "0",
         "0",
         "0",
         "0",
         "0",
         "0",
         "0",
         "0",
         "0",
         "0",
         "0",
         "0",
         "0",
         "0",
         "0",
         "0",
         "0",
         "0",
         "0",
         "0",
         "0",
         "0",
         "0",
         "0",
         "0",
         "0",
         "0",
         "0",
         "0",
         "0",
         "0",
         "0",
         "0",
         "0",
         "0",
         "0",
         "0",
         "0",
         "0",
         "0",
         "0",
         "0",
         "0",
         "0",
         "0",
         "0",
         "0",
         "0",
         "0",
         "0",
         "0",
         "0",
         "0",
         "0",
         "0",
         "0",
         "0",
         "0",
         "0",
         "1",
         "0",
         "0",
         "0",
         "0",
         "0",
         "0",
         "0",
         "0",
         "0",
         "0",
         "0",
         "0",
         "0",
         "0",
         "0",
         "0",
         "0",
         "0",
         "0",
         "0",
         "0",
         "0",
         "0",
         "0",
         "0",
         "0",
         "0",
         "0",
         "0",
         "Fungal infection"
        ],
        [
         "3",
         "1",
         "1",
         "0",
         "0",
         "0",
         "0",
         "0",
         "0",
         "0",
         "0",
         "0",
         "0",
         "0",
         "0",
         "0",
         "0",
         "0",
         "0",
         "0",
         "0",
         "0",
         "0",
         "0",
         "0",
         "0",
         "0",
         "0",
         "0",
         "0",
         "0",
         "0",
         "0",
         "0",
         "0",
         "0",
         "0",
         "0",
         "0",
         "0",
         "0",
         "0",
         "0",
         "0",
         "0",
         "0",
         "0",
         "0",
         "0",
         "0",
         "0",
         "0",
         "0",
         "0",
         "0",
         "0",
         "0",
         "0",
         "0",
         "0",
         "0",
         "0",
         "0",
         "0",
         "0",
         "0",
         "0",
         "0",
         "0",
         "0",
         "0",
         "0",
         "0",
         "0",
         "0",
         "0",
         "0",
         "0",
         "0",
         "0",
         "0",
         "0",
         "0",
         "0",
         "0",
         "0",
         "0",
         "0",
         "0",
         "0",
         "0",
         "0",
         "0",
         "0",
         "0",
         "0",
         "0",
         "0",
         "0",
         "0",
         "0",
         "0",
         "0",
         "1",
         "0",
         "0",
         "0",
         "0",
         "0",
         "0",
         "0",
         "0",
         "0",
         "0",
         "0",
         "0",
         "0",
         "0",
         "0",
         "0",
         "0",
         "0",
         "0",
         "0",
         "0",
         "0",
         "0",
         "0",
         "0",
         "0",
         "0",
         "0",
         "0",
         "Fungal infection"
        ],
        [
         "4",
         "1",
         "1",
         "1",
         "0",
         "0",
         "0",
         "0",
         "0",
         "0",
         "0",
         "0",
         "0",
         "0",
         "0",
         "0",
         "0",
         "0",
         "0",
         "0",
         "0",
         "0",
         "0",
         "0",
         "0",
         "0",
         "0",
         "0",
         "0",
         "0",
         "0",
         "0",
         "0",
         "0",
         "0",
         "0",
         "0",
         "0",
         "0",
         "0",
         "0",
         "0",
         "0",
         "0",
         "0",
         "0",
         "0",
         "0",
         "0",
         "0",
         "0",
         "0",
         "0",
         "0",
         "0",
         "0",
         "0",
         "0",
         "0",
         "0",
         "0",
         "0",
         "0",
         "0",
         "0",
         "0",
         "0",
         "0",
         "0",
         "0",
         "0",
         "0",
         "0",
         "0",
         "0",
         "0",
         "0",
         "0",
         "0",
         "0",
         "0",
         "0",
         "0",
         "0",
         "0",
         "0",
         "0",
         "0",
         "0",
         "0",
         "0",
         "0",
         "0",
         "0",
         "0",
         "0",
         "0",
         "0",
         "0",
         "0",
         "0",
         "0",
         "0",
         "0",
         "0",
         "0",
         "0",
         "0",
         "0",
         "0",
         "0",
         "0",
         "0",
         "0",
         "0",
         "0",
         "0",
         "0",
         "0",
         "0",
         "0",
         "0",
         "0",
         "0",
         "0",
         "0",
         "0",
         "0",
         "0",
         "0",
         "0",
         "0",
         "0",
         "Fungal infection"
        ]
       ],
       "shape": {
        "columns": 133,
        "rows": 5
       }
      },
      "text/html": [
       "<div>\n",
       "<style scoped>\n",
       "    .dataframe tbody tr th:only-of-type {\n",
       "        vertical-align: middle;\n",
       "    }\n",
       "\n",
       "    .dataframe tbody tr th {\n",
       "        vertical-align: top;\n",
       "    }\n",
       "\n",
       "    .dataframe thead th {\n",
       "        text-align: right;\n",
       "    }\n",
       "</style>\n",
       "<table border=\"1\" class=\"dataframe\">\n",
       "  <thead>\n",
       "    <tr style=\"text-align: right;\">\n",
       "      <th></th>\n",
       "      <th>itching</th>\n",
       "      <th>skin_rash</th>\n",
       "      <th>nodal_skin_eruptions</th>\n",
       "      <th>continuous_sneezing</th>\n",
       "      <th>shivering</th>\n",
       "      <th>chills</th>\n",
       "      <th>joint_pain</th>\n",
       "      <th>stomach_pain</th>\n",
       "      <th>acidity</th>\n",
       "      <th>ulcers_on_tongue</th>\n",
       "      <th>...</th>\n",
       "      <th>blackheads</th>\n",
       "      <th>scurring</th>\n",
       "      <th>skin_peeling</th>\n",
       "      <th>silver_like_dusting</th>\n",
       "      <th>small_dents_in_nails</th>\n",
       "      <th>inflammatory_nails</th>\n",
       "      <th>blister</th>\n",
       "      <th>red_sore_around_nose</th>\n",
       "      <th>yellow_crust_ooze</th>\n",
       "      <th>prognosis</th>\n",
       "    </tr>\n",
       "  </thead>\n",
       "  <tbody>\n",
       "    <tr>\n",
       "      <th>0</th>\n",
       "      <td>1</td>\n",
       "      <td>1</td>\n",
       "      <td>1</td>\n",
       "      <td>0</td>\n",
       "      <td>0</td>\n",
       "      <td>0</td>\n",
       "      <td>0</td>\n",
       "      <td>0</td>\n",
       "      <td>0</td>\n",
       "      <td>0</td>\n",
       "      <td>...</td>\n",
       "      <td>0</td>\n",
       "      <td>0</td>\n",
       "      <td>0</td>\n",
       "      <td>0</td>\n",
       "      <td>0</td>\n",
       "      <td>0</td>\n",
       "      <td>0</td>\n",
       "      <td>0</td>\n",
       "      <td>0</td>\n",
       "      <td>Fungal infection</td>\n",
       "    </tr>\n",
       "    <tr>\n",
       "      <th>1</th>\n",
       "      <td>0</td>\n",
       "      <td>1</td>\n",
       "      <td>1</td>\n",
       "      <td>0</td>\n",
       "      <td>0</td>\n",
       "      <td>0</td>\n",
       "      <td>0</td>\n",
       "      <td>0</td>\n",
       "      <td>0</td>\n",
       "      <td>0</td>\n",
       "      <td>...</td>\n",
       "      <td>0</td>\n",
       "      <td>0</td>\n",
       "      <td>0</td>\n",
       "      <td>0</td>\n",
       "      <td>0</td>\n",
       "      <td>0</td>\n",
       "      <td>0</td>\n",
       "      <td>0</td>\n",
       "      <td>0</td>\n",
       "      <td>Fungal infection</td>\n",
       "    </tr>\n",
       "    <tr>\n",
       "      <th>2</th>\n",
       "      <td>1</td>\n",
       "      <td>0</td>\n",
       "      <td>1</td>\n",
       "      <td>0</td>\n",
       "      <td>0</td>\n",
       "      <td>0</td>\n",
       "      <td>0</td>\n",
       "      <td>0</td>\n",
       "      <td>0</td>\n",
       "      <td>0</td>\n",
       "      <td>...</td>\n",
       "      <td>0</td>\n",
       "      <td>0</td>\n",
       "      <td>0</td>\n",
       "      <td>0</td>\n",
       "      <td>0</td>\n",
       "      <td>0</td>\n",
       "      <td>0</td>\n",
       "      <td>0</td>\n",
       "      <td>0</td>\n",
       "      <td>Fungal infection</td>\n",
       "    </tr>\n",
       "    <tr>\n",
       "      <th>3</th>\n",
       "      <td>1</td>\n",
       "      <td>1</td>\n",
       "      <td>0</td>\n",
       "      <td>0</td>\n",
       "      <td>0</td>\n",
       "      <td>0</td>\n",
       "      <td>0</td>\n",
       "      <td>0</td>\n",
       "      <td>0</td>\n",
       "      <td>0</td>\n",
       "      <td>...</td>\n",
       "      <td>0</td>\n",
       "      <td>0</td>\n",
       "      <td>0</td>\n",
       "      <td>0</td>\n",
       "      <td>0</td>\n",
       "      <td>0</td>\n",
       "      <td>0</td>\n",
       "      <td>0</td>\n",
       "      <td>0</td>\n",
       "      <td>Fungal infection</td>\n",
       "    </tr>\n",
       "    <tr>\n",
       "      <th>4</th>\n",
       "      <td>1</td>\n",
       "      <td>1</td>\n",
       "      <td>1</td>\n",
       "      <td>0</td>\n",
       "      <td>0</td>\n",
       "      <td>0</td>\n",
       "      <td>0</td>\n",
       "      <td>0</td>\n",
       "      <td>0</td>\n",
       "      <td>0</td>\n",
       "      <td>...</td>\n",
       "      <td>0</td>\n",
       "      <td>0</td>\n",
       "      <td>0</td>\n",
       "      <td>0</td>\n",
       "      <td>0</td>\n",
       "      <td>0</td>\n",
       "      <td>0</td>\n",
       "      <td>0</td>\n",
       "      <td>0</td>\n",
       "      <td>Fungal infection</td>\n",
       "    </tr>\n",
       "  </tbody>\n",
       "</table>\n",
       "<p>5 rows × 133 columns</p>\n",
       "</div>"
      ],
      "text/plain": [
       "   itching  skin_rash  nodal_skin_eruptions  continuous_sneezing  shivering  \\\n",
       "0        1          1                     1                    0          0   \n",
       "1        0          1                     1                    0          0   \n",
       "2        1          0                     1                    0          0   \n",
       "3        1          1                     0                    0          0   \n",
       "4        1          1                     1                    0          0   \n",
       "\n",
       "   chills  joint_pain  stomach_pain  acidity  ulcers_on_tongue  ...  \\\n",
       "0       0           0             0        0                 0  ...   \n",
       "1       0           0             0        0                 0  ...   \n",
       "2       0           0             0        0                 0  ...   \n",
       "3       0           0             0        0                 0  ...   \n",
       "4       0           0             0        0                 0  ...   \n",
       "\n",
       "   blackheads  scurring  skin_peeling  silver_like_dusting  \\\n",
       "0           0         0             0                    0   \n",
       "1           0         0             0                    0   \n",
       "2           0         0             0                    0   \n",
       "3           0         0             0                    0   \n",
       "4           0         0             0                    0   \n",
       "\n",
       "   small_dents_in_nails  inflammatory_nails  blister  red_sore_around_nose  \\\n",
       "0                     0                   0        0                     0   \n",
       "1                     0                   0        0                     0   \n",
       "2                     0                   0        0                     0   \n",
       "3                     0                   0        0                     0   \n",
       "4                     0                   0        0                     0   \n",
       "\n",
       "   yellow_crust_ooze         prognosis  \n",
       "0                  0  Fungal infection  \n",
       "1                  0  Fungal infection  \n",
       "2                  0  Fungal infection  \n",
       "3                  0  Fungal infection  \n",
       "4                  0  Fungal infection  \n",
       "\n",
       "[5 rows x 133 columns]"
      ]
     },
     "execution_count": 8,
     "metadata": {},
     "output_type": "execute_result"
    }
   ],
   "source": [
    "dataset.head()"
   ]
  },
  {
   "cell_type": "code",
   "execution_count": 9,
   "metadata": {},
   "outputs": [],
   "source": [
    "X = dataset.drop([\"prognosis\"], axis=1)\n",
    "y = dataset[\"prognosis\"]"
   ]
  },
  {
   "cell_type": "markdown",
   "metadata": {},
   "source": [
    "# Standardizing the features"
   ]
  },
  {
   "cell_type": "code",
   "execution_count": null,
   "metadata": {},
   "outputs": [],
   "source": [
    "from sklearn.preprocessing import MinMaxScaler\n",
    "scaler = MinMaxScaler()\n",
    "X_scaled = pd.DataFrame(scaler.fit_transform(X), columns=X.columns)"
   ]
  },
  {
   "cell_type": "markdown",
   "metadata": {},
   "source": [
    "# Model Training and Evaluation"
   ]
  },
  {
   "cell_type": "code",
   "execution_count": null,
   "metadata": {},
   "outputs": [
    {
     "name": "stdout",
     "output_type": "stream",
     "text": [
      "SVC Accuracy: 1.0\n",
      "RandomForest Accuracy: 1.0\n",
      "GradientBoosting Accuracy: 0.8360655737704918\n",
      "KNeighbors Accuracy: 0.9672131147540983\n",
      "\n",
      "Best Model: SVC with Accuracy: 1.0\n"
     ]
    }
   ],
   "source": [
    "X_train, X_test, y_train, y_test = train_test_split(X_scaled, y, test_size=0.2, random_state=42)\n",
    "\n",
    "models = {\n",
    "    'SVC': SVC(kernel='linear'),\n",
    "    'RandomForest': RandomForestClassifier(n_estimators=100, random_state=42),\n",
    "    'GradientBoosting': GradientBoostingClassifier(n_estimators=100, random_state=42),\n",
    "    'KNeighbors': KNeighborsClassifier(n_neighbors=5)\n",
    "}\n",
    "\n",
    "best_model = None\n",
    "best_accuracy = 0\n",
    "\n",
    "for model_name, model in models.items():\n",
    "    model.fit(X_train, y_train)\n",
    "    predictions = model.predict(X_test)\n",
    "    accuracy = accuracy_score(y_test, predictions)\n",
    "    print(f\"{model_name} Accuracy: {accuracy}\")\n",
    "\n",
    "    # Save the best model\n",
    "    if accuracy > best_accuracy:\n",
    "        best_accuracy = accuracy\n",
    "        best_model = model\n",
    "\n",
    "print(f\"\\nBest Model: {type(best_model).__name__} with Accuracy: {best_accuracy}\")"
   ]
  },
  {
   "cell_type": "code",
   "execution_count": null,
   "metadata": {},
   "outputs": [
    {
     "data": {
      "image/png": "[encoded data removed]",
      "text/plain": [
       "<Figure size 800x600 with 2 Axes>"
      ]
     },
     "metadata": {},
     "output_type": "display_data"
    },
    {
     "data": {
      "image/png": "[encoded data removed]",
      "text/plain": [
       "<Figure size 1000x500 with 1 Axes>"
      ]
     },
     "metadata": {},
     "output_type": "display_data"
    }
   ],
   "source": [
    "import matplotlib.pyplot as plt\n",
    "import seaborn as sns\n",
    "from sklearn.metrics import confusion_matrix\n",
    "\n",
    "best_predictions = best_model.predict(X_test)\n",
    "cm = confusion_matrix(y_test, best_predictions)\n",
    "\n",
    "plt.figure(figsize=(8, 6))\n",
    "sns.heatmap(cm, annot=True, fmt=\"d\", cmap=\"Blues\")\n",
    "plt.title(f'Confusion Matrix for Best Model: {type(best_model).__name__}')\n",
    "plt.xlabel('Predicted Label')\n",
    "plt.ylabel('True Label')\n",
    "plt.show()\n",
    "\n",
    "model_names = list(models.keys())\n",
    "accuracies = [accuracy_score(y_test, model.predict(X_test)) for model in models.values()]\n",
    "\n",
    "plt.figure(figsize=(10, 5))\n",
    "plt.bar(model_names, accuracies, color='skyblue')\n",
    "plt.title('Model Accuracy Comparison')\n",
    "plt.xlabel('Model')\n",
    "plt.ylabel('Accuracy')\n",
    "plt.ylim(0, 1)\n",
    "plt.show()"
   ]
  },
  {
   "cell_type": "markdown",
   "metadata": {},
   "source": [
    "# Save the Model"
   ]
  },
  {
   "cell_type": "code",
   "execution_count": 13,
   "metadata": {},
   "outputs": [],
   "source": [
    "model_path = \"C:/Users/dipay/OneDrive/Desktop/AI_Healthcare_Chatbot/model/svc.pkl\"\n",
    "pickle.dump(best_model, open(model_path, 'wb'))"
   ]
  },
  {
   "cell_type": "code",
   "execution_count": 14,
   "metadata": {},
   "outputs": [],
   "source": [
    "# Save the MinMaxScaler\n",
    "with open(\"C:/Users/dipay/OneDrive/Desktop/AI_Healthcare_Chatbot/model/scaler.pkl\", \"wb\") as f:\n",
    "    pickle.dump(scaler, f)\n",
    "\n",
    "# Save the feature names (column names from X)\n",
    "with open(\"C:/Users/dipay/OneDrive/Desktop/AI_Healthcare_Chatbot/model/features.pkl\", \"wb\") as f:\n",
    "    pickle.dump(X.columns.tolist(), f)"
   ]
  },
  {
   "cell_type": "code",
   "execution_count": 15,
   "metadata": {},
   "outputs": [],
   "source": [
    "description = pd.read_csv(\"C:/Users/dipay/OneDrive/Desktop/AI_Healthcare_Chatbot/dataset/description.csv\")\n",
    "precautions = pd.read_csv(\"C:/Users/dipay/OneDrive/Desktop/AI_Healthcare_Chatbot/dataset/precautions_df.csv\")\n",
    "medications = pd.read_csv(\"C:/Users/dipay/OneDrive/Desktop/AI_Healthcare_Chatbot/dataset/medications.csv\")\n",
    "diets = pd.read_csv(\"C:/Users/dipay/OneDrive/Desktop/AI_Healthcare_Chatbot/dataset/diets.csv\")\n",
    "workout = pd.read_csv(\"C:/Users/dipay/OneDrive/Desktop/AI_Healthcare_Chatbot/dataset/workout_df.csv\")"
   ]
  },
  {
   "cell_type": "code",
   "execution_count": null,
   "metadata": {},
   "outputs": [],
   "source": [
    "symptoms_dict = {\n",
    "    'itching': 0,\n",
    "    'skin_rash': 1,\n",
    "    'nodal_skin_eruptions': 2,\n",
    "    'continuous_sneezing': 3,\n",
    "    'shivering': 4,\n",
    "    'chills': 5,\n",
    "    'joint_pain': 6,\n",
    "    'stomach_pain': 7,\n",
    "    'acidity': 8,\n",
    "    'ulcers_on_tongue': 9,\n",
    "    'muscle_wasting': 10,\n",
    "    'vomiting': 11,\n",
    "    'burning_micturition': 12,\n",
    "    'spotting_ urination': 13,\n",
    "    'fatigue': 14,\n",
    "    'weight_gain': 15,\n",
    "    'anxiety': 16,\n",
    "    'cold_hands_and_feets': 17,\n",
    "    'mood_swings': 18,\n",
    "    'weight_loss': 19,\n",
    "    'restlessness': 20,\n",
    "    'lethargy': 21,\n",
    "    'patches_in_throat': 22,\n",
    "    'irregular_sugar_level': 23,\n",
    "    'cough': 24,\n",
    "    'high_fever': 25,\n",
    "    'sunken_eyes': 26,\n",
    "    'breathlessness': 27,\n",
    "    'sweating': 28,\n",
    "    'dehydration': 29,\n",
    "    'indigestion': 30,\n",
    "    'headache': 31,\n",
    "    'yellowish_skin': 32,\n",
    "    'dark_urine': 33,\n",
    "    'nausea': 34,\n",
    "    'loss_of_appetite': 35,\n",
    "    'pain_behind_the_eyes': 36,\n",
    "    'back_pain': 37,\n",
    "    'constipation': 38,\n",
    "    'abdominal_pain': 39,\n",
    "    'diarrhoea': 40,\n",
    "    'mild_fever': 41,\n",
    "    'yellow_urine': 42,\n",
    "    'yellowing_of_eyes': 43,\n",
    "    'acute_liver_failure': 44,\n",
    "    'fluid_overload': 45,\n",
    "    'swelling_of_stomach': 46,\n",
    "    'swelled_lymph_nodes': 47,\n",
    "    'malaise': 48,\n",
    "    'blurred_and_distorted_vision': 49,\n",
    "    'phlegm': 50,\n",
    "    'throat_irritation': 51,\n",
    "    'redness_of_eyes': 52,\n",
    "    'sinus_pressure': 53,\n",
    "    'runny_nose': 54,\n",
    "    'congestion': 55,\n",
    "    'chest_pain': 56,\n",
    "    'weakness_in_limbs': 57,\n",
    "    'fast_heart_rate': 58,\n",
    "    'pain_during_bowel_movements': 59,\n",
    "    'pain_in_anal_region': 60,\n",
    "    'bloody_stool': 61,\n",
    "    'irritation_in_anus': 62,\n",
    "    'neck_pain': 63,\n",
    "    'dizziness': 64,\n",
    "    'cramps': 65,\n",
    "    'bruising': 66,\n",
    "    'obesity': 67,\n",
    "    'swollen_legs': 68,\n",
    "    'swollen_blood_vessels': 69,\n",
    "    'puffy_face_and_eyes': 70,\n",
    "    'enlarged_thyroid': 71,\n",
    "    'brittle_nails': 72,\n",
    "    'swollen_extremeties': 73,\n",
    "    'excessive_hunger': 74,\n",
    "    'extra_marital_contacts': 75,\n",
    "    'drying_and_tingling_lips': 76,\n",
    "    'slurred_speech': 77,\n",
    "    'knee_pain': 78,\n",
    "    'hip_joint_pain': 79,\n",
    "    'muscle_weakness': 80,\n",
    "    'stiff_neck': 81,\n",
    "    'swelling_joints': 82,\n",
    "    'movement_stiffness': 83,\n",
    "    'spinning_movements': 84,\n",
    "    'loss_of_balance': 85,\n",
    "    'unsteadiness': 86,\n",
    "    'weakness_of_one_body_side': 87,\n",
    "    'loss_of_smell': 88,\n",
    "    'bladder_discomfort': 89,\n",
    "    'foul_smell_of urine': 90,\n",
    "    'continuous_feel_of_urine': 91,\n",
    "    'passage_of_gases': 92,\n",
    "    'internal_itching': 93,\n",
    "    'toxic_look_(typhos)': 94,\n",
    "    'depression': 95,\n",
    "    'irritability': 96,\n",
    "    'muscle_pain': 97,\n",
    "    'altered_sensorium': 98,\n",
    "    'red_spots_over_body': 99,\n",
    "    'belly_pain': 100,\n",
    "    'abnormal_menstruation': 101,\n",
    "    'dischromic _patches': 102,\n",
    "    'watering_from_eyes': 103,\n",
    "    'increased_appetite': 104,\n",
    "    'polyuria': 105,\n",
    "    'family_history': 106,\n",
    "    'mucoid_sputum': 107,\n",
    "    'rusty_sputum': 108,\n",
    "    'lack_of_concentration': 109,\n",
    "    'visual_disturbances': 110,\n",
    "    'receiving_blood_transfusion': 111,\n",
    "    'receiving_unsterile_injections': 112,\n",
    "    'coma': 113,\n",
    "    'stomach_bleeding': 114,\n",
    "    'distention_of_abdomen': 115,\n",
    "    'history_of_alcohol_consumption': 116,\n",
    "    'fluid_overload.1': 117,\n",
    "    'blood_in_sputum': 118,\n",
    "    'prominent_veins_on_calf': 119,\n",
    "    'palpitations': 120,\n",
    "    'painful_walking': 121,\n",
    "    'pus_filled_pimples': 122,\n",
    "    'blackheads': 123,\n",
    "    'scurring': 124,\n",
    "    'skin_peeling': 125,\n",
    "    'silver_like_dusting': 126,\n",
    "    'small_dents_in_nails': 127,\n",
    "    'inflammatory_nails': 128,\n",
    "    'blister': 129,\n",
    "    'red_sore_around_nose': 130,\n",
    "    'yellow_crust_ooze': 131\n",
    "}\n",
    "diseases_list = {\n",
    "    0: '(vertigo) Paroymsal  Positional Vertigo',\n",
    "    1: 'AIDS',\n",
    "    2: 'Acne',\n",
    "    3: 'Alcoholic hepatitis',\n",
    "    4: 'Allergy',\n",
    "    5: 'Arthritis',\n",
    "    6: 'Bronchial Asthma',\n",
    "    7: 'Cervical spondylosis',\n",
    "    8: 'Chicken pox',\n",
    "    9: 'Chronic cholestasis',\n",
    "    10: 'Common Cold',\n",
    "    11: 'Dengue',\n",
    "    12: 'Diabetes ',\n",
    "    13: 'Dimorphic hemmorhoids(piles)',\n",
    "    14: 'Drug Reaction',\n",
    "    15: 'Fungal infection',\n",
    "    16: 'GERD',\n",
    "    17: 'Gastroenteritis',\n",
    "    18: 'Heart attack',\n",
    "    19: 'Hepatitis B',\n",
    "    20: 'Hepatitis C',\n",
    "    21: 'Hepatitis D',\n",
    "    22: 'Hepatitis E',\n",
    "    23: 'Hypertension ',\n",
    "    24: 'Hyperthyroidism',\n",
    "    25: 'Hypoglycemia',\n",
    "    26: 'Hypothyroidism',\n",
    "    27: 'Impetigo',\n",
    "    28: 'Jaundice',\n",
    "    29: 'Malaria',\n",
    "    30: 'Migraine',\n",
    "    31: 'Osteoarthristis',\n",
    "    32: 'Paralysis (brain hemorrhage)',\n",
    "    33: 'Peptic ulcer diseae',\n",
    "    34: 'Pneumonia',\n",
    "    35: 'Psoriasis',\n",
    "    36: 'Tuberculosis',\n",
    "    37: 'Typhoid',\n",
    "    38: 'Urinary tract infection',\n",
    "    39: 'Varicose veins',\n",
    "    40: 'hepatitis A'\n",
    "}"
   ]
  },
  {
   "cell_type": "code",
   "execution_count": 17,
   "metadata": {},
   "outputs": [],
   "source": [
    "def get_predicted_value(patient_symptoms):\n",
    "    input_vector = np.zeros(len(symptoms_dict))\n",
    "    for symptom in patient_symptoms:\n",
    "        if symptom in symptoms_dict:\n",
    "            input_vector[symptoms_dict[symptom]] = 1\n",
    "    return diseases_list[best_model.predict([input_vector])[0]]"
   ]
  },
  {
   "cell_type": "code",
   "execution_count": 18,
   "metadata": {},
   "outputs": [],
   "source": [
    "def helper(disease):\n",
    "    desc = description[description['Disease'] == disease]['Description'].values\n",
    "    pre = precautions[precautions['Disease'] == disease][['Precaution_1', 'Precaution_2', 'Precaution_3', 'Precaution_4']].values.flatten()\n",
    "    med = medications[medications['Disease'] == disease]['Medication'].values\n",
    "    die = diets[diets['Disease'] == disease]['Diet'].values\n",
    "    wrkout = workout[workout['Disease'] == disease]['workout'].values\n",
    "    return desc, pre, med, die, wrkout"
   ]
  }
 ],
 "metadata": {
  "kernelspec": {
   "display_name": "Python 3",
   "language": "python",
   "name": "python3"
  },
  "language_info": {
   "codemirror_mode": {
    "name": "ipython",
    "version": 3
   },
   "file_extension": ".py",
   "mimetype": "text/x-python",
   "name": "python",
   "nbconvert_exporter": "python",
   "pygments_lexer": "ipython3",
   "version": "3.10.0"
  }
 },
 "nbformat": 4,
 "nbformat_minor": 2
}
